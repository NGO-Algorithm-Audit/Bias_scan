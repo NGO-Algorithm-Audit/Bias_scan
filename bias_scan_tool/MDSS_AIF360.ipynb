{
 "cells": [
  {
   "cell_type": "markdown",
   "id": "4cd6e28f",
   "metadata": {},
   "source": [
    "# Unsupervised bias detection using the Multi-Dimensional Subset Scan\n",
    "## Case study using AIF360: German Credit data set\n",
    "Developed by Jurriaan Parie, Data scientist IBM Northern Europe. For questions please reach out to Jurriaan.Parie@ibm.com."
   ]
  },
  {
   "cell_type": "markdown",
   "id": "9706aecc",
   "metadata": {},
   "source": [
    "### Load libraries and helper code"
   ]
  },
  {
   "cell_type": "code",
   "execution_count": 1,
   "id": "f3da2ede",
   "metadata": {},
   "outputs": [],
   "source": [
    "import numpy as np\n",
    "import pandas as pd\n",
    "import matplotlib.pyplot as plt\n",
    "from IPython.display import Markdown, display\n",
    "\n",
    "# Dataset\n",
    "from german_dataset import GermanDataset\n",
    "\n",
    "# Helper functions\n",
    "from helper_functions import *\n",
    "\n",
    "# Fairness metrics\n",
    "from aif360.metrics import BinaryLabelDatasetMetric\n",
    "\n",
    "# MDSS\n",
    "from mdss.mdss_classification_metric import *\n",
    "\n",
    "# Scalers\n",
    "from sklearn.preprocessing import StandardScaler\n",
    "\n",
    "# Classifiers\n",
    "from sklearn.linear_model import LogisticRegression\n",
    "from sklearn.pipeline import make_pipeline\n",
    "\n",
    "np.random.seed(0)"
   ]
  },
  {
   "cell_type": "markdown",
   "id": "91a85ade",
   "metadata": {},
   "source": [
    "### Loading data"
   ]
  },
  {
   "cell_type": "code",
   "execution_count": 2,
   "id": "6ead3869",
   "metadata": {},
   "outputs": [],
   "source": [
    "gd = GermanDataset(\n",
    "    \n",
    "    # default pre-processing\n",
    "    custom_preprocessing=default_preprocessing\n",
    ")"
   ]
  },
  {
   "cell_type": "markdown",
   "id": "3219f3c6",
   "metadata": {},
   "source": [
    "Convert to pandas data frame."
   ]
  },
  {
   "cell_type": "code",
   "execution_count": 3,
   "id": "fb547bf8",
   "metadata": {},
   "outputs": [
    {
     "data": {
      "text/html": [
       "<div>\n",
       "<style scoped>\n",
       "    .dataframe tbody tr th:only-of-type {\n",
       "        vertical-align: middle;\n",
       "    }\n",
       "\n",
       "    .dataframe tbody tr th {\n",
       "        vertical-align: top;\n",
       "    }\n",
       "\n",
       "    .dataframe thead th {\n",
       "        text-align: right;\n",
       "    }\n",
       "</style>\n",
       "<table border=\"1\" class=\"dataframe\">\n",
       "  <thead>\n",
       "    <tr style=\"text-align: right;\">\n",
       "      <th></th>\n",
       "      <th>month</th>\n",
       "      <th>credit_amount</th>\n",
       "      <th>investment_as_income_percentage</th>\n",
       "      <th>residence_since</th>\n",
       "      <th>age</th>\n",
       "      <th>number_of_credits</th>\n",
       "      <th>people_liable_for</th>\n",
       "      <th>status=A11</th>\n",
       "      <th>status=A12</th>\n",
       "      <th>status=A13</th>\n",
       "      <th>...</th>\n",
       "      <th>housing=A153</th>\n",
       "      <th>skill_level=A171</th>\n",
       "      <th>skill_level=A172</th>\n",
       "      <th>skill_level=A173</th>\n",
       "      <th>skill_level=A174</th>\n",
       "      <th>telephone=A191</th>\n",
       "      <th>telephone=A192</th>\n",
       "      <th>foreign_worker=A201</th>\n",
       "      <th>foreign_worker=A202</th>\n",
       "      <th>credit</th>\n",
       "    </tr>\n",
       "  </thead>\n",
       "  <tbody>\n",
       "    <tr>\n",
       "      <th>0</th>\n",
       "      <td>6.0</td>\n",
       "      <td>1169.0</td>\n",
       "      <td>4.0</td>\n",
       "      <td>4.0</td>\n",
       "      <td>67.0</td>\n",
       "      <td>2.0</td>\n",
       "      <td>1.0</td>\n",
       "      <td>1.0</td>\n",
       "      <td>0.0</td>\n",
       "      <td>0.0</td>\n",
       "      <td>...</td>\n",
       "      <td>0.0</td>\n",
       "      <td>0.0</td>\n",
       "      <td>0.0</td>\n",
       "      <td>1.0</td>\n",
       "      <td>0.0</td>\n",
       "      <td>0.0</td>\n",
       "      <td>1.0</td>\n",
       "      <td>1.0</td>\n",
       "      <td>0.0</td>\n",
       "      <td>0.0</td>\n",
       "    </tr>\n",
       "    <tr>\n",
       "      <th>1</th>\n",
       "      <td>48.0</td>\n",
       "      <td>5951.0</td>\n",
       "      <td>2.0</td>\n",
       "      <td>2.0</td>\n",
       "      <td>22.0</td>\n",
       "      <td>1.0</td>\n",
       "      <td>1.0</td>\n",
       "      <td>0.0</td>\n",
       "      <td>1.0</td>\n",
       "      <td>0.0</td>\n",
       "      <td>...</td>\n",
       "      <td>0.0</td>\n",
       "      <td>0.0</td>\n",
       "      <td>0.0</td>\n",
       "      <td>1.0</td>\n",
       "      <td>0.0</td>\n",
       "      <td>1.0</td>\n",
       "      <td>0.0</td>\n",
       "      <td>1.0</td>\n",
       "      <td>0.0</td>\n",
       "      <td>1.0</td>\n",
       "    </tr>\n",
       "    <tr>\n",
       "      <th>2</th>\n",
       "      <td>12.0</td>\n",
       "      <td>2096.0</td>\n",
       "      <td>2.0</td>\n",
       "      <td>3.0</td>\n",
       "      <td>49.0</td>\n",
       "      <td>1.0</td>\n",
       "      <td>2.0</td>\n",
       "      <td>0.0</td>\n",
       "      <td>0.0</td>\n",
       "      <td>0.0</td>\n",
       "      <td>...</td>\n",
       "      <td>0.0</td>\n",
       "      <td>0.0</td>\n",
       "      <td>1.0</td>\n",
       "      <td>0.0</td>\n",
       "      <td>0.0</td>\n",
       "      <td>1.0</td>\n",
       "      <td>0.0</td>\n",
       "      <td>1.0</td>\n",
       "      <td>0.0</td>\n",
       "      <td>0.0</td>\n",
       "    </tr>\n",
       "    <tr>\n",
       "      <th>3</th>\n",
       "      <td>42.0</td>\n",
       "      <td>7882.0</td>\n",
       "      <td>2.0</td>\n",
       "      <td>4.0</td>\n",
       "      <td>45.0</td>\n",
       "      <td>1.0</td>\n",
       "      <td>2.0</td>\n",
       "      <td>1.0</td>\n",
       "      <td>0.0</td>\n",
       "      <td>0.0</td>\n",
       "      <td>...</td>\n",
       "      <td>1.0</td>\n",
       "      <td>0.0</td>\n",
       "      <td>0.0</td>\n",
       "      <td>1.0</td>\n",
       "      <td>0.0</td>\n",
       "      <td>1.0</td>\n",
       "      <td>0.0</td>\n",
       "      <td>1.0</td>\n",
       "      <td>0.0</td>\n",
       "      <td>0.0</td>\n",
       "    </tr>\n",
       "    <tr>\n",
       "      <th>4</th>\n",
       "      <td>24.0</td>\n",
       "      <td>4870.0</td>\n",
       "      <td>3.0</td>\n",
       "      <td>4.0</td>\n",
       "      <td>53.0</td>\n",
       "      <td>2.0</td>\n",
       "      <td>2.0</td>\n",
       "      <td>1.0</td>\n",
       "      <td>0.0</td>\n",
       "      <td>0.0</td>\n",
       "      <td>...</td>\n",
       "      <td>1.0</td>\n",
       "      <td>0.0</td>\n",
       "      <td>0.0</td>\n",
       "      <td>1.0</td>\n",
       "      <td>0.0</td>\n",
       "      <td>1.0</td>\n",
       "      <td>0.0</td>\n",
       "      <td>1.0</td>\n",
       "      <td>0.0</td>\n",
       "      <td>1.0</td>\n",
       "    </tr>\n",
       "  </tbody>\n",
       "</table>\n",
       "<p>5 rows × 58 columns</p>\n",
       "</div>"
      ],
      "text/plain": [
       "   month  credit_amount  investment_as_income_percentage  residence_since  \\\n",
       "0    6.0         1169.0                              4.0              4.0   \n",
       "1   48.0         5951.0                              2.0              2.0   \n",
       "2   12.0         2096.0                              2.0              3.0   \n",
       "3   42.0         7882.0                              2.0              4.0   \n",
       "4   24.0         4870.0                              3.0              4.0   \n",
       "\n",
       "    age  number_of_credits  people_liable_for  status=A11  status=A12  \\\n",
       "0  67.0                2.0                1.0         1.0         0.0   \n",
       "1  22.0                1.0                1.0         0.0         1.0   \n",
       "2  49.0                1.0                2.0         0.0         0.0   \n",
       "3  45.0                1.0                2.0         1.0         0.0   \n",
       "4  53.0                2.0                2.0         1.0         0.0   \n",
       "\n",
       "   status=A13  ...  housing=A153  skill_level=A171  skill_level=A172  \\\n",
       "0         0.0  ...           0.0               0.0               0.0   \n",
       "1         0.0  ...           0.0               0.0               0.0   \n",
       "2         0.0  ...           0.0               0.0               1.0   \n",
       "3         0.0  ...           1.0               0.0               0.0   \n",
       "4         0.0  ...           1.0               0.0               0.0   \n",
       "\n",
       "   skill_level=A173  skill_level=A174  telephone=A191  telephone=A192  \\\n",
       "0               1.0               0.0             0.0             1.0   \n",
       "1               1.0               0.0             1.0             0.0   \n",
       "2               0.0               0.0             1.0             0.0   \n",
       "3               1.0               0.0             1.0             0.0   \n",
       "4               1.0               0.0             1.0             0.0   \n",
       "\n",
       "   foreign_worker=A201  foreign_worker=A202  credit  \n",
       "0                  1.0                  0.0     0.0  \n",
       "1                  1.0                  0.0     1.0  \n",
       "2                  1.0                  0.0     0.0  \n",
       "3                  1.0                  0.0     0.0  \n",
       "4                  1.0                  0.0     1.0  \n",
       "\n",
       "[5 rows x 58 columns]"
      ]
     },
     "execution_count": 3,
     "metadata": {},
     "output_type": "execute_result"
    }
   ],
   "source": [
    "df_gd = gd.convert_to_dataframe()[0]\n",
    "df_gd.head()"
   ]
  },
  {
   "cell_type": "markdown",
   "id": "15303665",
   "metadata": {},
   "source": [
    "### Initialize (un)priviliged groups and split original data set"
   ]
  },
  {
   "cell_type": "code",
   "execution_count": 4,
   "id": "3d41e379",
   "metadata": {},
   "outputs": [],
   "source": [
    "# age as protected attribute\n",
    "prot_attr = 'age'\n",
    "age_level = 25\n",
    "\n",
    "# (un)priviliged groups\n",
    "privileged_groups = [{'age': 1}]\n",
    "unprivileged_groups = [{'age': 0}]\n",
    "\n",
    "# pre-processing data set AIF360\n",
    "gd = GermanDataset(\n",
    "    \n",
    "    # specify protected attribute\n",
    "    protected_attribute_names=[prot_attr],\n",
    "\n",
    "    # initialize priviliged class            \n",
    "    privileged_classes=[lambda x: x > age_level],\n",
    "\n",
    "    # default pre-processing\n",
    "    custom_preprocessing=default_preprocessing\n",
    ")\n",
    "\n",
    "# split data\n",
    "gd_train, gd_val, gd_test = gd.split([0.5, 0.8], shuffle=True)"
   ]
  },
  {
   "cell_type": "markdown",
   "id": "12adc46a",
   "metadata": {},
   "source": [
    "### Compute fairness metrics based on observed favorable outcomes in original data set"
   ]
  },
  {
   "cell_type": "code",
   "execution_count": 5,
   "id": "01a97079",
   "metadata": {},
   "outputs": [
    {
     "name": "stdout",
     "output_type": "stream",
     "text": [
      "Statistical parity difference = -0.167541\n",
      "Disparate impact = 0.772006\n"
     ]
    }
   ],
   "source": [
    "# compute metrics\n",
    "metric_gd_train = BinaryLabelDatasetMetric(gd_train, \n",
    "                                           unprivileged_groups=unprivileged_groups,\n",
    "                                           privileged_groups=privileged_groups)\n",
    "\n",
    "# statistical parity difference\n",
    "print(\"Statistical parity difference = %f\" %metric_gd_train.statistical_parity_difference())\n",
    "\n",
    "# disparate impact\n",
    "print(\"Disparate impact = %f\" %metric_gd_train.disparate_impact())"
   ]
  },
  {
   "cell_type": "markdown",
   "id": "9f594aa9",
   "metadata": {},
   "source": [
    "### Train model on original data"
   ]
  },
  {
   "cell_type": "code",
   "execution_count": 6,
   "id": "44695747",
   "metadata": {},
   "outputs": [],
   "source": [
    "gd_train = gd_train.copy()\n",
    "\n",
    "# initialize pipeline\n",
    "model = make_pipeline(StandardScaler(),\n",
    "                       LogisticRegression(solver='liblinear', random_state=1))\n",
    "\n",
    "# model parameters\n",
    "fit_params = {'logisticregression__sample_weight': gd_train.instance_weights}\n",
    "\n",
    "# fit model\n",
    "LR = model.fit(gd_train.features, gd_train.labels.ravel(), **fit_params)"
   ]
  },
  {
   "cell_type": "markdown",
   "id": "09cfef9e",
   "metadata": {},
   "source": [
    "### Test model"
   ]
  },
  {
   "cell_type": "code",
   "execution_count": 7,
   "id": "4deb578a",
   "metadata": {},
   "outputs": [],
   "source": [
    "# chosen threshold\n",
    "thresh = 0.70"
   ]
  },
  {
   "cell_type": "code",
   "execution_count": 8,
   "id": "d282c4f3",
   "metadata": {},
   "outputs": [],
   "source": [
    "# compute metrich for chose threshold\n",
    "LR_metrics = test(dataset=gd_test,\n",
    "                  model=LR,\n",
    "                  thresh_arr=[thresh],\n",
    "                  unprivileged_groups=unprivileged_groups,\n",
    "                  privileged_groups=privileged_groups)"
   ]
  },
  {
   "cell_type": "code",
   "execution_count": 9,
   "id": "0d6f5804",
   "metadata": {},
   "outputs": [
    {
     "data": {
      "text/plain": [
       "defaultdict(list,\n",
       "            {'thres': [0.7],\n",
       "             'bal_acc': [0.6714749160004635],\n",
       "             'avg_odds_diff': [0.2068981008148217],\n",
       "             'disp_imp': [1.5827263267429763],\n",
       "             'stat_par_diff': [0.21378125596487885],\n",
       "             'eq_opp_diff': [0.21756978653530373]})"
      ]
     },
     "execution_count": 9,
     "metadata": {},
     "output_type": "execute_result"
    }
   ],
   "source": [
    "LR_metrics"
   ]
  },
  {
   "cell_type": "markdown",
   "id": "3a141be5",
   "metadata": {},
   "source": [
    "### MDSS"
   ]
  },
  {
   "cell_type": "code",
   "execution_count": 10,
   "id": "5ec64cd5",
   "metadata": {},
   "outputs": [],
   "source": [
    "from mdss.mdss_classification_metric import MDSSClassificationMetric"
   ]
  },
  {
   "cell_type": "code",
   "execution_count": 11,
   "id": "67b5d62e",
   "metadata": {},
   "outputs": [],
   "source": [
    "dataset_pred = pred_dataset(dataset=gd_test,\n",
    "                            model=LR,\n",
    "                            thresh=thresh)"
   ]
  },
  {
   "cell_type": "code",
   "execution_count": 12,
   "id": "c5dbd500",
   "metadata": {},
   "outputs": [],
   "source": [
    "bias_scan = MDSSClassificationMetric(dataset=gd_test,\n",
    "                                     classified_dataset=dataset_pred,\n",
    "                                     unprivileged_groups=unprivileged_groups,\n",
    "                                     privileged_groups=privileged_groups)"
   ]
  },
  {
   "cell_type": "code",
   "execution_count": 13,
   "id": "6cb8c8c0",
   "metadata": {},
   "outputs": [
    {
     "data": {
      "text/plain": [
       "({}, 0.0)"
      ]
     },
     "execution_count": 13,
     "metadata": {},
     "output_type": "execute_result"
    }
   ],
   "source": [
    "bias_scan.bias_scan()"
   ]
  },
  {
   "cell_type": "code",
   "execution_count": 20,
   "id": "d41fc909",
   "metadata": {},
   "outputs": [
    {
     "data": {
      "text/plain": [
       "0.5905178737346571"
      ]
     },
     "execution_count": 20,
     "metadata": {},
     "output_type": "execute_result"
    }
   ],
   "source": [
    "bias_scan.generalized_entropy_index()"
   ]
  },
  {
   "cell_type": "code",
   "execution_count": null,
   "id": "5febc9a5",
   "metadata": {},
   "outputs": [],
   "source": []
  }
 ],
 "metadata": {
  "kernelspec": {
   "display_name": "Python 3 (ipykernel)",
   "language": "python",
   "name": "python3"
  },
  "language_info": {
   "codemirror_mode": {
    "name": "ipython",
    "version": 3
   },
   "file_extension": ".py",
   "mimetype": "text/x-python",
   "name": "python",
   "nbconvert_exporter": "python",
   "pygments_lexer": "ipython3",
   "version": "3.9.7"
  }
 },
 "nbformat": 4,
 "nbformat_minor": 5
}
