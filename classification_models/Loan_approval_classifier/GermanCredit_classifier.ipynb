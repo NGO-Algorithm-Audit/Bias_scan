{
 "cells": [
  {
   "cell_type": "markdown",
   "id": "04ad3987",
   "metadata": {},
   "source": [
    "## Loan approval classifier\n",
    "In this notebooks a XGBoost loan approval classifier for credit application is trained. Overview of this notebook: \n",
    "1. Load data\n",
    "2. Explanatory data analysis\n",
    "3. Split features, labels, train, validate and test set\n",
    "4. Train XGBoost\n",
    "5. Make prediction\n",
    "6. Export predictions\n",
    "\n",
    "To build this classifier an online tutorial was consulted: https://towardsdatascience.com/fine-tuning-bert-for-text-classification-54e7df642894."
   ]
  },
  {
   "cell_type": "markdown",
   "id": "e914c397",
   "metadata": {},
   "source": [
    "### Load libraries and helper code"
   ]
  },
  {
   "cell_type": "code",
   "execution_count": 1,
   "id": "f5ca5800",
   "metadata": {},
   "outputs": [],
   "source": [
    "import sys\n",
    "import random\n",
    "import warnings\n",
    "warnings.filterwarnings('ignore')\n",
    "\n",
    "import numpy as np\n",
    "import pandas as pd\n",
    "import seaborn as sns\n",
    "from IPython.display import Markdown, display\n",
    "\n",
    "# matplotlib\n",
    "import matplotlib as mpl\n",
    "import matplotlib.pyplot as plt\n",
    "\n",
    "# sklearn\n",
    "from sklearn.metrics import accuracy_score\n",
    "from sklearn.ensemble import RandomForestClassifier\n",
    "from sklearn.model_selection import train_test_split\n",
    "from sklearn.metrics import confusion_matrix, ConfusionMatrixDisplay\n",
    "\n",
    "# xgboost classifier\n",
    "from xgboost import XGBClassifier\n",
    "\n",
    "# change path to load data\n",
    "sys.path.insert(0, \"../../data/GermanCredit_dataset/\") \n",
    "\n",
    "# initialize dataset\n",
    "from german_dataset import GermanDataset\n",
    "\n",
    "# helper functions\n",
    "from helper_functions import *"
   ]
  },
  {
   "cell_type": "markdown",
   "id": "9243bc37",
   "metadata": {},
   "source": [
    "### 1. Load data\n",
    "Load one-hot encoded version of German Credit dataset."
   ]
  },
  {
   "cell_type": "code",
   "execution_count": 2,
   "id": "d8776058",
   "metadata": {},
   "outputs": [],
   "source": [
    "gd = GermanDataset(\n",
    "    \n",
    "    # default pre-processing\n",
    "    custom_preprocessing=default_preprocessing\n",
    ")"
   ]
  },
  {
   "cell_type": "markdown",
   "id": "f3a6ab68",
   "metadata": {},
   "source": [
    "Convert to pandas data frame."
   ]
  },
  {
   "cell_type": "code",
   "execution_count": 3,
   "id": "80aea605",
   "metadata": {},
   "outputs": [
    {
     "data": {
      "text/html": [
       "<div>\n",
       "<style scoped>\n",
       "    .dataframe tbody tr th:only-of-type {\n",
       "        vertical-align: middle;\n",
       "    }\n",
       "\n",
       "    .dataframe tbody tr th {\n",
       "        vertical-align: top;\n",
       "    }\n",
       "\n",
       "    .dataframe thead th {\n",
       "        text-align: right;\n",
       "    }\n",
       "</style>\n",
       "<table border=\"1\" class=\"dataframe\">\n",
       "  <thead>\n",
       "    <tr style=\"text-align: right;\">\n",
       "      <th></th>\n",
       "      <th>month</th>\n",
       "      <th>credit_amount</th>\n",
       "      <th>investment_as_income_percentage</th>\n",
       "      <th>residence_since</th>\n",
       "      <th>age</th>\n",
       "      <th>number_of_credits</th>\n",
       "      <th>people_liable_for</th>\n",
       "      <th>status=A11</th>\n",
       "      <th>status=A12</th>\n",
       "      <th>status=A13</th>\n",
       "      <th>...</th>\n",
       "      <th>housing=A153</th>\n",
       "      <th>skill_level=A171</th>\n",
       "      <th>skill_level=A172</th>\n",
       "      <th>skill_level=A173</th>\n",
       "      <th>skill_level=A174</th>\n",
       "      <th>telephone=A191</th>\n",
       "      <th>telephone=A192</th>\n",
       "      <th>foreign_worker=A201</th>\n",
       "      <th>foreign_worker=A202</th>\n",
       "      <th>credit</th>\n",
       "    </tr>\n",
       "  </thead>\n",
       "  <tbody>\n",
       "    <tr>\n",
       "      <th>0</th>\n",
       "      <td>6.0</td>\n",
       "      <td>1169.0</td>\n",
       "      <td>4.0</td>\n",
       "      <td>4.0</td>\n",
       "      <td>67.0</td>\n",
       "      <td>2.0</td>\n",
       "      <td>1.0</td>\n",
       "      <td>1.0</td>\n",
       "      <td>0.0</td>\n",
       "      <td>0.0</td>\n",
       "      <td>...</td>\n",
       "      <td>0.0</td>\n",
       "      <td>0.0</td>\n",
       "      <td>0.0</td>\n",
       "      <td>1.0</td>\n",
       "      <td>0.0</td>\n",
       "      <td>0.0</td>\n",
       "      <td>1.0</td>\n",
       "      <td>1.0</td>\n",
       "      <td>0.0</td>\n",
       "      <td>0.0</td>\n",
       "    </tr>\n",
       "    <tr>\n",
       "      <th>1</th>\n",
       "      <td>48.0</td>\n",
       "      <td>5951.0</td>\n",
       "      <td>2.0</td>\n",
       "      <td>2.0</td>\n",
       "      <td>22.0</td>\n",
       "      <td>1.0</td>\n",
       "      <td>1.0</td>\n",
       "      <td>0.0</td>\n",
       "      <td>1.0</td>\n",
       "      <td>0.0</td>\n",
       "      <td>...</td>\n",
       "      <td>0.0</td>\n",
       "      <td>0.0</td>\n",
       "      <td>0.0</td>\n",
       "      <td>1.0</td>\n",
       "      <td>0.0</td>\n",
       "      <td>1.0</td>\n",
       "      <td>0.0</td>\n",
       "      <td>1.0</td>\n",
       "      <td>0.0</td>\n",
       "      <td>1.0</td>\n",
       "    </tr>\n",
       "    <tr>\n",
       "      <th>2</th>\n",
       "      <td>12.0</td>\n",
       "      <td>2096.0</td>\n",
       "      <td>2.0</td>\n",
       "      <td>3.0</td>\n",
       "      <td>49.0</td>\n",
       "      <td>1.0</td>\n",
       "      <td>2.0</td>\n",
       "      <td>0.0</td>\n",
       "      <td>0.0</td>\n",
       "      <td>0.0</td>\n",
       "      <td>...</td>\n",
       "      <td>0.0</td>\n",
       "      <td>0.0</td>\n",
       "      <td>1.0</td>\n",
       "      <td>0.0</td>\n",
       "      <td>0.0</td>\n",
       "      <td>1.0</td>\n",
       "      <td>0.0</td>\n",
       "      <td>1.0</td>\n",
       "      <td>0.0</td>\n",
       "      <td>0.0</td>\n",
       "    </tr>\n",
       "    <tr>\n",
       "      <th>3</th>\n",
       "      <td>42.0</td>\n",
       "      <td>7882.0</td>\n",
       "      <td>2.0</td>\n",
       "      <td>4.0</td>\n",
       "      <td>45.0</td>\n",
       "      <td>1.0</td>\n",
       "      <td>2.0</td>\n",
       "      <td>1.0</td>\n",
       "      <td>0.0</td>\n",
       "      <td>0.0</td>\n",
       "      <td>...</td>\n",
       "      <td>1.0</td>\n",
       "      <td>0.0</td>\n",
       "      <td>0.0</td>\n",
       "      <td>1.0</td>\n",
       "      <td>0.0</td>\n",
       "      <td>1.0</td>\n",
       "      <td>0.0</td>\n",
       "      <td>1.0</td>\n",
       "      <td>0.0</td>\n",
       "      <td>0.0</td>\n",
       "    </tr>\n",
       "    <tr>\n",
       "      <th>4</th>\n",
       "      <td>24.0</td>\n",
       "      <td>4870.0</td>\n",
       "      <td>3.0</td>\n",
       "      <td>4.0</td>\n",
       "      <td>53.0</td>\n",
       "      <td>2.0</td>\n",
       "      <td>2.0</td>\n",
       "      <td>1.0</td>\n",
       "      <td>0.0</td>\n",
       "      <td>0.0</td>\n",
       "      <td>...</td>\n",
       "      <td>1.0</td>\n",
       "      <td>0.0</td>\n",
       "      <td>0.0</td>\n",
       "      <td>1.0</td>\n",
       "      <td>0.0</td>\n",
       "      <td>1.0</td>\n",
       "      <td>0.0</td>\n",
       "      <td>1.0</td>\n",
       "      <td>0.0</td>\n",
       "      <td>1.0</td>\n",
       "    </tr>\n",
       "  </tbody>\n",
       "</table>\n",
       "<p>5 rows × 58 columns</p>\n",
       "</div>"
      ],
      "text/plain": [
       "   month  credit_amount  investment_as_income_percentage  residence_since  \\\n",
       "0    6.0         1169.0                              4.0              4.0   \n",
       "1   48.0         5951.0                              2.0              2.0   \n",
       "2   12.0         2096.0                              2.0              3.0   \n",
       "3   42.0         7882.0                              2.0              4.0   \n",
       "4   24.0         4870.0                              3.0              4.0   \n",
       "\n",
       "    age  number_of_credits  people_liable_for  status=A11  status=A12  \\\n",
       "0  67.0                2.0                1.0         1.0         0.0   \n",
       "1  22.0                1.0                1.0         0.0         1.0   \n",
       "2  49.0                1.0                2.0         0.0         0.0   \n",
       "3  45.0                1.0                2.0         1.0         0.0   \n",
       "4  53.0                2.0                2.0         1.0         0.0   \n",
       "\n",
       "   status=A13  ...  housing=A153  skill_level=A171  skill_level=A172  \\\n",
       "0         0.0  ...           0.0               0.0               0.0   \n",
       "1         0.0  ...           0.0               0.0               0.0   \n",
       "2         0.0  ...           0.0               0.0               1.0   \n",
       "3         0.0  ...           1.0               0.0               0.0   \n",
       "4         0.0  ...           1.0               0.0               0.0   \n",
       "\n",
       "   skill_level=A173  skill_level=A174  telephone=A191  telephone=A192  \\\n",
       "0               1.0               0.0             0.0             1.0   \n",
       "1               1.0               0.0             1.0             0.0   \n",
       "2               0.0               0.0             1.0             0.0   \n",
       "3               1.0               0.0             1.0             0.0   \n",
       "4               1.0               0.0             1.0             0.0   \n",
       "\n",
       "   foreign_worker=A201  foreign_worker=A202  credit  \n",
       "0                  1.0                  0.0     0.0  \n",
       "1                  1.0                  0.0     1.0  \n",
       "2                  1.0                  0.0     0.0  \n",
       "3                  1.0                  0.0     0.0  \n",
       "4                  1.0                  0.0     1.0  \n",
       "\n",
       "[5 rows x 58 columns]"
      ]
     },
     "execution_count": 3,
     "metadata": {},
     "output_type": "execute_result"
    }
   ],
   "source": [
    "df_gd = gd.convert_to_dataframe()[0]\n",
    "df_gd.head()"
   ]
  },
  {
   "cell_type": "markdown",
   "id": "aafebdf5",
   "metadata": {},
   "source": [
    "### 2. Explanatory data analysis"
   ]
  },
  {
   "cell_type": "markdown",
   "id": "6a3a1384",
   "metadata": {},
   "source": [
    "Unbalanced dataset"
   ]
  },
  {
   "cell_type": "code",
   "execution_count": 4,
   "id": "7265d754",
   "metadata": {},
   "outputs": [
    {
     "data": {
      "image/png": "[encoded data removed]",
      "text/plain": [
       "<Figure size 432x216 with 1 Axes>"
      ]
     },
     "metadata": {
      "needs_background": "light"
     },
     "output_type": "display_data"
    }
   ],
   "source": [
    "plt.figure(figsize=[6, 3])\n",
    "plt.hist(df_gd[\"credit\"])\n",
    "plt.title(\"credit\")\n",
    "plt.show()"
   ]
  },
  {
   "cell_type": "markdown",
   "id": "c399ef43",
   "metadata": {},
   "source": [
    "### 3. Split features, labels, train, validate and test set"
   ]
  },
  {
   "cell_type": "code",
   "execution_count": 5,
   "id": "74b7a58a",
   "metadata": {},
   "outputs": [],
   "source": [
    "X = df_gd.drop('credit', 1)\n",
    "y = df_gd['credit']\n",
    "\n",
    "# Splitting X and y into train and test version\n",
    "X_train, X_test, y_train, y_test = train_test_split(X, y, test_size = 0.3, random_state=10)"
   ]
  },
  {
   "cell_type": "markdown",
   "id": "4f9c82ce",
   "metadata": {},
   "source": [
    "### 4. Train XGBoost"
   ]
  },
  {
   "cell_type": "markdown",
   "id": "ac3cddb6",
   "metadata": {},
   "source": [
    "Initialize model and specify model parameters"
   ]
  },
  {
   "cell_type": "code",
   "execution_count": 6,
   "id": "25373f98",
   "metadata": {},
   "outputs": [
    {
     "data": {
      "text/plain": [
       "XGBClassifier(base_score=0.5, booster='gbtree', callbacks=None,\n",
       "              colsample_bylevel=1, colsample_bynode=1, colsample_bytree=1,\n",
       "              early_stopping_rounds=None, enable_categorical=False,\n",
       "              eval_metric=None, gamma=0, gpu_id=None, grow_policy=None,\n",
       "              importance_type=None, interaction_constraints=None,\n",
       "              learning_rate=0.1, max_bin=None, max_cat_to_onehot=None,\n",
       "              max_delta_step=0, max_depth=3, max_leaves=None,\n",
       "              min_child_weight=1, missing=None, monotone_constraints=None,\n",
       "              n_estimators=100, n_jobs=1, nthread=None, num_parallel_tree=None,\n",
       "              objective='multi:softprob', predictor=None, random_state=0, ...)"
      ]
     },
     "execution_count": 6,
     "metadata": {},
     "output_type": "execute_result"
    }
   ],
   "source": [
    "xgbc = XGBClassifier()\n",
    "XGBClassifier(base_score=0.5, booster='gbtree', colsample_bylevel=1,\n",
    "       colsample_bynode=1, colsample_bytree=1, gamma=0, learning_rate=0.1,\n",
    "       max_delta_step=0, max_depth=3, min_child_weight=1, missing=None,\n",
    "       n_estimators=100, n_jobs=1, nthread=None,\n",
    "       objective='multi:softprob', random_state=0, reg_alpha=0,\n",
    "       reg_lambda=1, scale_pos_weight=1, seed=None, silent=None,\n",
    "       subsample=1, verbosity=1) "
   ]
  },
  {
   "cell_type": "code",
   "execution_count": 7,
   "id": "0a92f90c",
   "metadata": {},
   "outputs": [
    {
     "data": {
      "text/plain": [
       "XGBClassifier(base_score=0.5, booster='gbtree', callbacks=None,\n",
       "              colsample_bylevel=1, colsample_bynode=1, colsample_bytree=1,\n",
       "              early_stopping_rounds=None, enable_categorical=False,\n",
       "              eval_metric=None, gamma=0, gpu_id=-1, grow_policy='depthwise',\n",
       "              importance_type=None, interaction_constraints='',\n",
       "              learning_rate=0.300000012, max_bin=256, max_cat_to_onehot=4,\n",
       "              max_delta_step=0, max_depth=6, max_leaves=0, min_child_weight=1,\n",
       "              missing=nan, monotone_constraints='()', n_estimators=100,\n",
       "              n_jobs=0, num_parallel_tree=1, predictor='auto', random_state=0,\n",
       "              reg_alpha=0, reg_lambda=1, ...)"
      ]
     },
     "execution_count": 7,
     "metadata": {},
     "output_type": "execute_result"
    }
   ],
   "source": [
    "xgbc.fit(X_train, y_train)"
   ]
  },
  {
   "cell_type": "markdown",
   "id": "9c735f87",
   "metadata": {},
   "source": [
    "### 5. Make predictions\n",
    "Predict"
   ]
  },
  {
   "cell_type": "code",
   "execution_count": 8,
   "id": "bf8619bc",
   "metadata": {},
   "outputs": [],
   "source": [
    "y_hat = xgbc.predict(X_test)"
   ]
  },
  {
   "cell_type": "markdown",
   "id": "cb14169b",
   "metadata": {},
   "source": [
    "Merging predictions to dataframe"
   ]
  },
  {
   "cell_type": "code",
   "execution_count": 9,
   "id": "131a8ba0",
   "metadata": {},
   "outputs": [
    {
     "data": {
      "text/html": [
       "<div>\n",
       "<style scoped>\n",
       "    .dataframe tbody tr th:only-of-type {\n",
       "        vertical-align: middle;\n",
       "    }\n",
       "\n",
       "    .dataframe tbody tr th {\n",
       "        vertical-align: top;\n",
       "    }\n",
       "\n",
       "    .dataframe thead th {\n",
       "        text-align: right;\n",
       "    }\n",
       "</style>\n",
       "<table border=\"1\" class=\"dataframe\">\n",
       "  <thead>\n",
       "    <tr style=\"text-align: right;\">\n",
       "      <th></th>\n",
       "      <th>month</th>\n",
       "      <th>credit_amount</th>\n",
       "      <th>investment_as_income_percentage</th>\n",
       "      <th>residence_since</th>\n",
       "      <th>age</th>\n",
       "      <th>number_of_credits</th>\n",
       "      <th>people_liable_for</th>\n",
       "      <th>status=A11</th>\n",
       "      <th>status=A12</th>\n",
       "      <th>status=A13</th>\n",
       "      <th>...</th>\n",
       "      <th>skill_level=A172</th>\n",
       "      <th>skill_level=A173</th>\n",
       "      <th>skill_level=A174</th>\n",
       "      <th>telephone=A191</th>\n",
       "      <th>telephone=A192</th>\n",
       "      <th>foreign_worker=A201</th>\n",
       "      <th>foreign_worker=A202</th>\n",
       "      <th>predicted_class</th>\n",
       "      <th>true_class</th>\n",
       "      <th>errors</th>\n",
       "    </tr>\n",
       "  </thead>\n",
       "  <tbody>\n",
       "    <tr>\n",
       "      <th>841</th>\n",
       "      <td>21.0</td>\n",
       "      <td>2993.0</td>\n",
       "      <td>3.0</td>\n",
       "      <td>2.0</td>\n",
       "      <td>28.0</td>\n",
       "      <td>2.0</td>\n",
       "      <td>1.0</td>\n",
       "      <td>0.0</td>\n",
       "      <td>0.0</td>\n",
       "      <td>0.0</td>\n",
       "      <td>...</td>\n",
       "      <td>1.0</td>\n",
       "      <td>0.0</td>\n",
       "      <td>0.0</td>\n",
       "      <td>1.0</td>\n",
       "      <td>0.0</td>\n",
       "      <td>1.0</td>\n",
       "      <td>0.0</td>\n",
       "      <td>0</td>\n",
       "      <td>0.0</td>\n",
       "      <td>0.0</td>\n",
       "    </tr>\n",
       "    <tr>\n",
       "      <th>956</th>\n",
       "      <td>30.0</td>\n",
       "      <td>3656.0</td>\n",
       "      <td>4.0</td>\n",
       "      <td>4.0</td>\n",
       "      <td>49.0</td>\n",
       "      <td>2.0</td>\n",
       "      <td>1.0</td>\n",
       "      <td>0.0</td>\n",
       "      <td>0.0</td>\n",
       "      <td>1.0</td>\n",
       "      <td>...</td>\n",
       "      <td>1.0</td>\n",
       "      <td>0.0</td>\n",
       "      <td>0.0</td>\n",
       "      <td>1.0</td>\n",
       "      <td>0.0</td>\n",
       "      <td>1.0</td>\n",
       "      <td>0.0</td>\n",
       "      <td>0</td>\n",
       "      <td>0.0</td>\n",
       "      <td>0.0</td>\n",
       "    </tr>\n",
       "    <tr>\n",
       "      <th>544</th>\n",
       "      <td>12.0</td>\n",
       "      <td>1255.0</td>\n",
       "      <td>4.0</td>\n",
       "      <td>4.0</td>\n",
       "      <td>61.0</td>\n",
       "      <td>2.0</td>\n",
       "      <td>1.0</td>\n",
       "      <td>0.0</td>\n",
       "      <td>0.0</td>\n",
       "      <td>0.0</td>\n",
       "      <td>...</td>\n",
       "      <td>1.0</td>\n",
       "      <td>0.0</td>\n",
       "      <td>0.0</td>\n",
       "      <td>1.0</td>\n",
       "      <td>0.0</td>\n",
       "      <td>1.0</td>\n",
       "      <td>0.0</td>\n",
       "      <td>0</td>\n",
       "      <td>0.0</td>\n",
       "      <td>0.0</td>\n",
       "    </tr>\n",
       "    <tr>\n",
       "      <th>173</th>\n",
       "      <td>8.0</td>\n",
       "      <td>1414.0</td>\n",
       "      <td>4.0</td>\n",
       "      <td>2.0</td>\n",
       "      <td>33.0</td>\n",
       "      <td>1.0</td>\n",
       "      <td>1.0</td>\n",
       "      <td>0.0</td>\n",
       "      <td>1.0</td>\n",
       "      <td>0.0</td>\n",
       "      <td>...</td>\n",
       "      <td>0.0</td>\n",
       "      <td>1.0</td>\n",
       "      <td>0.0</td>\n",
       "      <td>1.0</td>\n",
       "      <td>0.0</td>\n",
       "      <td>0.0</td>\n",
       "      <td>1.0</td>\n",
       "      <td>0</td>\n",
       "      <td>0.0</td>\n",
       "      <td>0.0</td>\n",
       "    </tr>\n",
       "    <tr>\n",
       "      <th>759</th>\n",
       "      <td>12.0</td>\n",
       "      <td>691.0</td>\n",
       "      <td>4.0</td>\n",
       "      <td>3.0</td>\n",
       "      <td>35.0</td>\n",
       "      <td>2.0</td>\n",
       "      <td>1.0</td>\n",
       "      <td>1.0</td>\n",
       "      <td>0.0</td>\n",
       "      <td>0.0</td>\n",
       "      <td>...</td>\n",
       "      <td>0.0</td>\n",
       "      <td>1.0</td>\n",
       "      <td>0.0</td>\n",
       "      <td>1.0</td>\n",
       "      <td>0.0</td>\n",
       "      <td>1.0</td>\n",
       "      <td>0.0</td>\n",
       "      <td>0</td>\n",
       "      <td>1.0</td>\n",
       "      <td>1.0</td>\n",
       "    </tr>\n",
       "  </tbody>\n",
       "</table>\n",
       "<p>5 rows × 60 columns</p>\n",
       "</div>"
      ],
      "text/plain": [
       "     month  credit_amount  investment_as_income_percentage  residence_since  \\\n",
       "841   21.0         2993.0                              3.0              2.0   \n",
       "956   30.0         3656.0                              4.0              4.0   \n",
       "544   12.0         1255.0                              4.0              4.0   \n",
       "173    8.0         1414.0                              4.0              2.0   \n",
       "759   12.0          691.0                              4.0              3.0   \n",
       "\n",
       "      age  number_of_credits  people_liable_for  status=A11  status=A12  \\\n",
       "841  28.0                2.0                1.0         0.0         0.0   \n",
       "956  49.0                2.0                1.0         0.0         0.0   \n",
       "544  61.0                2.0                1.0         0.0         0.0   \n",
       "173  33.0                1.0                1.0         0.0         1.0   \n",
       "759  35.0                2.0                1.0         1.0         0.0   \n",
       "\n",
       "     status=A13  ...  skill_level=A172  skill_level=A173  skill_level=A174  \\\n",
       "841         0.0  ...               1.0               0.0               0.0   \n",
       "956         1.0  ...               1.0               0.0               0.0   \n",
       "544         0.0  ...               1.0               0.0               0.0   \n",
       "173         0.0  ...               0.0               1.0               0.0   \n",
       "759         0.0  ...               0.0               1.0               0.0   \n",
       "\n",
       "     telephone=A191  telephone=A192  foreign_worker=A201  foreign_worker=A202  \\\n",
       "841             1.0             0.0                  1.0                  0.0   \n",
       "956             1.0             0.0                  1.0                  0.0   \n",
       "544             1.0             0.0                  1.0                  0.0   \n",
       "173             1.0             0.0                  0.0                  1.0   \n",
       "759             1.0             0.0                  1.0                  0.0   \n",
       "\n",
       "     predicted_class  true_class  errors  \n",
       "841                0         0.0     0.0  \n",
       "956                0         0.0     0.0  \n",
       "544                0         0.0     0.0  \n",
       "173                0         0.0     0.0  \n",
       "759                0         1.0     1.0  \n",
       "\n",
       "[5 rows x 60 columns]"
      ]
     },
     "execution_count": 9,
     "metadata": {},
     "output_type": "execute_result"
    }
   ],
   "source": [
    "# Converting y_hat from np to df\n",
    "predictions_col = pd.DataFrame(index=X_test.index)\n",
    "predictions_col['predicted_class'] = y_hat.tolist()\n",
    "predictions_col['true_class'] = y_test.tolist()\n",
    "\n",
    "# Calculating the errors with the absolute value \n",
    "predictions_col['errors'] = abs(predictions_col['predicted_class'] - predictions_col['true_class'])\n",
    "\n",
    "# Adding predictions to test data\n",
    "entire_dataset = pd.merge(X_test, predictions_col, left_index = True, right_index = True)\n",
    "entire_dataset.head()"
   ]
  },
  {
   "cell_type": "markdown",
   "id": "9b3e578c",
   "metadata": {},
   "source": [
    "Confusion matrix"
   ]
  },
  {
   "cell_type": "code",
   "execution_count": 11,
   "id": "121c7203",
   "metadata": {},
   "outputs": [
    {
     "name": "stdout",
     "output_type": "stream",
     "text": [
      "Acc:  0.75\n"
     ]
    },
    {
     "data": {
      "image/png": "[encoded data removed]",
      "text/plain": [
       "<Figure size 432x288 with 2 Axes>"
      ]
     },
     "metadata": {
      "needs_background": "light"
     },
     "output_type": "display_data"
    }
   ],
   "source": [
    "predictions = entire_dataset[\"predicted_class\"]\n",
    "true = entire_dataset[\"true_class\"]\n",
    "\n",
    "cm = confusion_matrix(true, predictions, labels=[1, 0], normalize='pred')\n",
    "cmap0 = mpl.colors.LinearSegmentedColormap.from_list(\n",
    "        'unevently divided', ['#618EC7','#fffde4'])\n",
    "\n",
    "disp = ConfusionMatrixDisplay(confusion_matrix=cm, display_labels=['True', 'False'])\n",
    "disp.plot(cmap=cmap0)\n",
    "\n",
    "print('Acc: ', accuracy_score(predictions,true))"
   ]
  },
  {
   "cell_type": "markdown",
   "id": "8fb41b51",
   "metadata": {},
   "source": [
    "### 6. Export data"
   ]
  },
  {
   "cell_type": "code",
   "execution_count": 12,
   "id": "ba6ddd5e",
   "metadata": {},
   "outputs": [],
   "source": [
    "entire_dataset.to_csv('./pred_XGBoost.csv', index=False)"
   ]
  }
 ],
 "metadata": {
  "kernelspec": {
   "display_name": "Python 3 (ipykernel)",
   "language": "python",
   "name": "python3"
  },
  "language_info": {
   "codemirror_mode": {
    "name": "ipython",
    "version": 3
   },
   "file_extension": ".py",
   "mimetype": "text/x-python",
   "name": "python",
   "nbconvert_exporter": "python",
   "pygments_lexer": "ipython3",
   "version": "3.9.7"
  }
 },
 "nbformat": 4,
 "nbformat_minor": 5
}
