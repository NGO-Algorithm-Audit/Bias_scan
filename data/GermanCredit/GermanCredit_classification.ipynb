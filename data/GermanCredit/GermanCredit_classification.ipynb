version https://git-lfs.github.com/spec/v1
oid sha256:4eb47b98294812f3f3a2a78223ec63bdbf1291b9670c97a71667463f94b2ec6e
size 19849
