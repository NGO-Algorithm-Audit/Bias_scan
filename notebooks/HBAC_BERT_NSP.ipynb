{
 "cells": [
  {
   "cell_type": "markdown",
   "id": "102b32b1",
   "metadata": {},
   "source": [
    "## Hierarchical Bias-Aware Clustering (HBAC) for BERT Next Sentence Prediction (NSP) "
   ]
  },
  {
   "cell_type": "code",
   "execution_count": null,
   "id": "633f6df2",
   "metadata": {},
   "outputs": [],
   "source": []
  }
 ],
 "metadata": {
  "kernelspec": {
   "display_name": "Python 3 (ipykernel)",
   "language": "python",
   "name": "python3"
  },
  "language_info": {
   "codemirror_mode": {
    "name": "ipython",
    "version": 3
   },
   "file_extension": ".py",
   "mimetype": "text/x-python",
   "name": "python",
   "nbconvert_exporter": "python",
   "pygments_lexer": "ipython3",
   "version": "3.9.7"
  }
 },
 "nbformat": 4,
 "nbformat_minor": 5
}
